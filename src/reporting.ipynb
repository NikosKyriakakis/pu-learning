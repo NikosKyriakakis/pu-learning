{
 "cells": [
  {
   "cell_type": "code",
   "execution_count": null,
   "metadata": {},
   "outputs": [],
   "source": [
    "import json, os\n",
    "import matplotlib.pyplot as plt\n",
    "\n",
    "from console import *\n",
    "\n",
    "\n",
    "def plot(report, report_hash, metric, n_iters=3):\n",
    "    itrs = []\n",
    "    test_loss = []\n",
    "    negative_cls_metric = []\n",
    "    positive_cls_metric = []\n",
    "    weighted_avg_metric = []\n",
    "    macro_avg_metric = []\n",
    "\n",
    "    try:\n",
    "        for i in range(n_iters):\n",
    "            itr = report[f\"iteration-{i}\"]\n",
    "            itrs.append(f\"iteration-{i}\")\n",
    "\n",
    "            if metric != \"test_loss\":\n",
    "                itr = itr[1]\n",
    "                negative_cls_metric.append(itr[\"0\"][metric])\n",
    "                positive_cls_metric.append(itr[\"1\"][metric])\n",
    "                weighted_avg_metric.append(itr[\"weighted avg\"][metric])\n",
    "                macro_avg_metric.append(itr[\"macro avg\"][metric])\n",
    "            else:\n",
    "                itr = itr[0]\n",
    "                test_loss.append(itr[\"test_loss\"])\n",
    "\n",
    "        if n_iters == 1:\n",
    "            width = 0.1\n",
    "        else:\n",
    "            width = 0.5\n",
    "\n",
    "        if metric != \"test_loss\":\n",
    "            fig, axs = plt.subplots(2, 2)\n",
    "            fig.suptitle(f\"Measurements for report:  id({report_hash})\")\n",
    "            fig.set_figheight(10)\n",
    "            fig.set_figwidth(10)\n",
    "\n",
    "            axs[0][0].set_title(f\"Negative class {metric}\")\n",
    "            p = axs[0][0].bar(itrs, negative_cls_metric, width=width, color=\"tab:blue\")\n",
    "            axs[0][0].bar_label(p, label_type=\"edge\")\n",
    "\n",
    "            axs[0][1].set_title(f\"Positive class {metric}\")\n",
    "            p = axs[0][1].bar(itrs, positive_cls_metric, width=width, color=\"tab:purple\")\n",
    "            axs[0][1].bar_label(p, label_type=\"edge\")\n",
    "\n",
    "            axs[1][0].set_title(f\"Weighted avg {metric}\")\n",
    "            p = axs[1][0].bar(itrs, weighted_avg_metric, width=width, color=\"tab:orange\")\n",
    "            axs[1][0].bar_label(p, label_type=\"edge\")\n",
    "\n",
    "            axs[1][1].set_title(f\"Macro avg {metric}\")\n",
    "            p = axs[1][1].bar(itrs, macro_avg_metric, width=width, color=\"tab:green\")\n",
    "            axs[1][1].bar_label(p, label_type=\"edge\")\n",
    "        else:\n",
    "            plt.figure(figsize=(5, 5))\n",
    "            plt.suptitle(f\"Measurements for report:  id({report_hash})\")\n",
    "            plt.bar(itrs, test_loss, width=width, color=\"tab:blue\")\n",
    "            plt.show()\n",
    "    except KeyError as key_err:\n",
    "        if \"iteration\" not in str(key_err): \n",
    "            print(error(f\"Invalid metric key provided:  {key_err}\"))"
   ]
  },
  {
   "cell_type": "code",
   "execution_count": null,
   "metadata": {},
   "outputs": [],
   "source": [
    "def load_reports(search_dir=\"../reports\"):\n",
    "    reports = {}\n",
    "    restore_path = os.getcwd()\n",
    "    os.chdir(search_dir)\n",
    "    contents = os.listdir(search_dir)\n",
    "    for filename in contents:\n",
    "        if filename.endswith(\".json\"):\n",
    "            with open(filename, 'r') as file_handle:\n",
    "                key = filename[7:-5]\n",
    "                reports[key] = json.load(file_handle)\n",
    "    os.chdir(restore_path)\n",
    "\n",
    "    return reports\n",
    "\n",
    "reports = load_reports()"
   ]
  },
  {
   "cell_type": "markdown",
   "metadata": {},
   "source": [
    "F1-Score & 300-dim GloVe"
   ]
  },
  {
   "cell_type": "code",
   "execution_count": null,
   "metadata": {},
   "outputs": [],
   "source": [
    "def filter_and_plot_reports(metric, properties=\"\"):\n",
    "    properties = properties.split(\";\")\n",
    "    for report_hash in reports.keys():\n",
    "        next_report = False\n",
    "        report_contents = reports[report_hash]\n",
    "        if properties != \"\":\n",
    "            for property in properties:\n",
    "                property_key, property_value = property.split(\":\")\n",
    "                if property_key not in report_contents.keys():\n",
    "                    print(warning(f\"Invalid key-({property_key}) provided in report-({report_hash}).\"))\n",
    "                    next_report = True\n",
    "                loaded_value = report_contents[property_key]\n",
    "                is_bool = type(loaded_value) == bool\n",
    "                loaded_value = str(loaded_value)\n",
    "                if is_bool:\n",
    "                    loaded_value = loaded_value.lower()\n",
    "                if property_value != loaded_value:\n",
    "                    next_report = True\n",
    "            if next_report:\n",
    "                continue\n",
    "        n_iters = 0\n",
    "        for k in report_contents.keys():\n",
    "            if \"iteration\" in k.lower():\n",
    "                n_iters += 1\n",
    "        plot(report=report_contents, report_hash=report_hash, metric=metric, n_iters=n_iters)"
   ]
  },
  {
   "cell_type": "code",
   "execution_count": null,
   "metadata": {},
   "outputs": [],
   "source": [
    "filter_and_plot_reports(metric=\"f1-score\", properties=\"loss-function:BCE;use_positive_augmentation:true\")"
   ]
  }
 ],
 "metadata": {
  "kernelspec": {
   "display_name": "Python 3",
   "language": "python",
   "name": "python3"
  },
  "language_info": {
   "codemirror_mode": {
    "name": "ipython",
    "version": 3
   },
   "file_extension": ".py",
   "mimetype": "text/x-python",
   "name": "python",
   "nbconvert_exporter": "python",
   "pygments_lexer": "ipython3",
   "version": "3.10.12"
  },
  "orig_nbformat": 4
 },
 "nbformat": 4,
 "nbformat_minor": 2
}
